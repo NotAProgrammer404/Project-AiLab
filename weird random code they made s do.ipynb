{
  "cells": [
    {
      "cell_type": "markdown",
      "metadata": {
        "id": "yZUfT3i7CjcU"
      },
      "source": [
        "# Lab Task 01"
      ]
    },
    {
      "cell_type": "markdown",
      "metadata": {
        "id": "cFvXKV7FCd5E"
      },
      "source": [
        "Write a function to return True if the first and last number of a given list is same. If numbers are different then return False."
      ]
    },
    {
      "cell_type": "code",
      "execution_count": 113,
      "metadata": {
        "id": "GXktR4r5Coyi"
      },
      "outputs": [
        {
          "name": "stdout",
          "output_type": "stream",
          "text": [
            "Given list:  [10, 20, 30, 40, 10]\n"
          ]
        },
        {
          "data": {
            "text/plain": [
              "True"
            ]
          },
          "execution_count": 113,
          "metadata": {},
          "output_type": "execute_result"
        }
      ],
      "source": [
        "# Given:\n",
        "numbers_x = [10, 20, 30, 40, 10]\n",
        "\n",
        "\n",
        "def FirstLastSame(array1):\n",
        "    if array1[-1]==array1[-1] and array1[0]==array1[0]:\n",
        "        print(\"Given list: \",array1)\n",
        "        return True\n",
        "    else :\n",
        "        print(\"Given list: \",array1)\n",
        "        return False\n",
        "    \n",
        "FirstLastSame(numbers_x)\n",
        "# Expected Output:\n",
        "# Given list: [10, 20, 30, 40, 10]\n",
        "# result is True\n",
        "\n",
        "# numbers_y = [75, 65, 35, 75, 30]\n",
        "# result is False"
      ]
    },
    {
      "cell_type": "markdown",
      "metadata": {
        "id": "UwFZ7OjICrlQ"
      },
      "source": [
        "\n",
        "\n",
        "\n",
        "\n",
        "# Lab Task 02"
      ]
    },
    {
      "cell_type": "markdown",
      "metadata": {
        "id": "GWQ2AhPcCufC"
      },
      "source": [
        "Create two NumPy arrays of the same shape and perform element-wise addition on them.\n",
        "\n",
        "Calculate the element-wise product of two NumPy arrays."
      ]
    },
    {
      "cell_type": "code",
      "execution_count": 12,
      "metadata": {
        "id": "jZNfvManCxjQ"
      },
      "outputs": [
        {
          "name": "stdout",
          "output_type": "stream",
          "text": [
            "Addition :\n",
            " [[16 18 20 22]\n",
            " [24 26 28 30]\n",
            " [32 34 36 38]\n",
            " [40 42 44 46]]\n",
            "\n",
            "Multipication :\n",
            " [[  0  17  36  57]\n",
            " [ 80 105 132 161]\n",
            " [192 225 260 297]\n",
            " [336 377 420 465]]\n"
          ]
        }
      ],
      "source": [
        "#code here\n",
        "import numpy as np\n",
        "array1=np.arange(16).reshape(4,4)\n",
        "array2=np.arange(16,32).reshape(4,4)\n",
        "add=array1+array2\n",
        "print(\"Addition :\\n\",add)\n",
        "mul=array1*array2\n",
        "print(\"\\nMultipication :\\n\",mul)"
      ]
    },
    {
      "cell_type": "markdown",
      "metadata": {
        "id": "DR3RvooloecS"
      },
      "source": [
        "# Lab Task 03"
      ]
    },
    {
      "cell_type": "markdown",
      "metadata": {
        "id": "Oi-yFvItoWzc"
      },
      "source": [
        "Reshape a 1D NumPy array into a 2D array with dimensions (3, 4).\n",
        "\n",
        "Concatenate two NumPy arrays horizontally and vertically."
      ]
    },
    {
      "cell_type": "code",
      "execution_count": 15,
      "metadata": {
        "id": "c379PMYOobDK"
      },
      "outputs": [
        {
          "name": "stdout",
          "output_type": "stream",
          "text": [
            "\n",
            "Before reshape : \n",
            " [ 0  1  2  3  4  5  6  7  8  9 10 11 12 13 14 15]\n",
            "\n",
            "After reshape : \n",
            " [[ 0  1  2  3]\n",
            " [ 4  5  6  7]\n",
            " [ 8  9 10 11]\n",
            " [12 13 14 15]]\n"
          ]
        }
      ],
      "source": [
        "#code here\n",
        "array1=np.arange(16)\n",
        "print (\"\\nBefore reshape : \\n\",array1)\n",
        "array1=array1.reshape(4,4)\n",
        "print(\"\\nAfter reshape : \\n\",array1)"
      ]
    },
    {
      "cell_type": "markdown",
      "metadata": {
        "id": "QyAHL3cppQvA"
      },
      "source": [
        "# Lab Task 04\n",
        "\n"
      ]
    },
    {
      "cell_type": "markdown",
      "metadata": {
        "id": "n9ljQa5NopJD"
      },
      "source": [
        "\n",
        "## Online Store Shopping Cart\n",
        "Write a Python program to simulate the online store's shopping cart system. The program should use a while loop to provide an interactive shopping experience.\n",
        "\n",
        "\n",
        "### Tasks:\n",
        "* Initialize an empty list called shopping_cart to store items.\n",
        "* Display a welcome message and available products.\n",
        "* Loop should be iterating over AI Response Simulator and Investment decision and keep asking for user input.\n",
        "* Prompt the user to enter the number corresponding to the product they want to add to the cart.\n",
        "* Check if the user entered 'q'. If so, break the loop.\n",
        "* Convert the choice to an integer and validate it within the valid range (1 to 3).\n",
        "* Based on the user's choice, add the selected product to the shopping_cart list.\n",
        "* Display a confirmation message indicating the added product.\n",
        "* Continue the loop to allow the user to add more products or proceed to checkout.\n",
        "* After the loop ends, display the contents of the shopping cart.\n",
        "* Display a goodbye message.\n",
        "* End the program.\n"
      ]
    },
    {
      "cell_type": "code",
      "execution_count": 33,
      "metadata": {
        "id": "9huwf9wVpWFf"
      },
      "outputs": [
        {
          "name": "stdout",
          "output_type": "stream",
          "text": [
            "Welcome to the Shopping Cart App!\n",
            "Available Products :\n",
            "1hello\n",
            "2hehe\n",
            "3huhu\n",
            "4hapatatis\n",
            "\n",
            "hapatatis added to the shopping cart.\n",
            "Available Products :\n",
            "1hello\n",
            "2hehe\n",
            "3huhu\n",
            "4hapatatis\n",
            "\n",
            "hapatatis added to the shopping cart.\n",
            "Available Products :\n",
            "1hello\n",
            "2hehe\n",
            "3huhu\n",
            "4hapatatis\n",
            "\n",
            "hapatatis added to the shopping cart.\n",
            "Available Products :\n",
            "1hello\n",
            "2hehe\n",
            "3huhu\n",
            "4hapatatis\n",
            "\n",
            "hapatatis added to the shopping cart.\n",
            "Available Products :\n",
            "1hello\n",
            "2hehe\n",
            "3huhu\n",
            "4hapatatis\n",
            "\n",
            "hapatatis added to the shopping cart.\n",
            "Available Products :\n",
            "1hello\n",
            "2hehe\n",
            "3huhu\n",
            "4hapatatis\n",
            "\n",
            "\n",
            "Shopping Cart Contents:\n",
            "1 . hapatatis\n",
            "2 . hapatatis\n",
            "3 . hapatatis\n",
            "4 . hapatatis\n",
            "5 . hapatatis\n",
            "Thank you for using the Shopping Cart App!\n"
          ]
        }
      ],
      "source": [
        "\n",
        "shopping_cart = []\n",
        "AvailableProducts=[\"hello\",\"hehe\",\"huhu\",\"hapatatis\"]\n",
        "\n",
        "print(\"Welcome to the Shopping Cart App!\")\n",
        "x=\"Available Products :\\n\"\n",
        "for i in range (len(AvailableProducts)):\n",
        "    x+=str(i+1)+AvailableProducts[i]+'\\n'\n",
        "\n",
        "\n",
        "\n",
        "\n",
        "while True:\n",
        "\n",
        "\n",
        "    print(x)\n",
        "    choice = input(\"Enter the number of the product you want to add to the cart (or 'q' to quit):\\n \")\n",
        "\n",
        "\n",
        "    if choice.lower() == 'q':\n",
        "        break\n",
        "\n",
        "\n",
        "    try:\n",
        "        choice = int(choice)\n",
        "        if choice not in range(1, len(AvailableProducts)+1):\n",
        "            raise ValueError(\"Invalid choice. Please enter a number between 1 and \"+str(len(AvailableProducts))+\".\")\n",
        "    except ValueError as e:\n",
        "        print(e)\n",
        "        continue\n",
        "\n",
        "    shopping_cart.append(AvailableProducts[choice-1])\n",
        "\n",
        "\n",
        "    print(f\"{AvailableProducts[choice-1]} added to the shopping cart.\")\n",
        "\n",
        "\n",
        "print(\"\\nShopping Cart Contents:\")\n",
        "i=1\n",
        "for item in shopping_cart:\n",
        "    print(str(i)+\" . \"+item)\n",
        "    i+=1\n",
        "\n",
        "\n",
        "print(\"Thank you for using the Shopping Cart App!\")\n",
        "\n",
        "\n"
      ]
    },
    {
      "cell_type": "markdown",
      "metadata": {
        "id": "Dv9DtQ3jp6mq"
      },
      "source": [
        "# Lab Task 05"
      ]
    },
    {
      "cell_type": "markdown",
      "metadata": {
        "id": "2i6-zm_1ZAdn"
      },
      "source": [
        "\n",
        "## Email Classification\n",
        "Develope a tool which will classify an email.\n",
        "\n",
        "### Tasks:\n",
        "* Create a function classify_emails that takes a list of emails as an argument.\n",
        "* Inside the function, categorize emails into \"Important,\" \"Promotions,\" and \"Spam\" based on keywords and content analysis.\n",
        "* Loop through the emails and identify keywords to determine their category.\n",
        "* If an email contains keywords indicating importance, assign it as \"Important.\"\n",
        "* If an email contains keywords related to promotions or deals, assign it as \"Promotions.\"\n",
        "* If an email is suspected to be spam based on certain keywords or patterns, assign it as \"Spam.\"\n",
        "* Return three lists of emails for each category.\n",
        "* Print the lists."
      ]
    },
    {
      "cell_type": "code",
      "execution_count": 36,
      "metadata": {
        "id": "SnCGPkq-o84Z"
      },
      "outputs": [],
      "source": [
        "#code here\n",
        "def ClasifyEmails(emails:list):\n",
        "    dict={\"important\":[\"urgent\", \"important\", \"critical\", \"action required\", \"priority\", \"deadline\", \"time-sensitive\", \"emergency\", \"vital\", \"crucial\", \"essential\", \"mandatory\", \"imperative\", \"serious\", \"attention\", \"requirement\", \"necessary\", \"critical update\", \"must read\", \"response needed\", \"important notice\", \"critical alert\", \"key information\", \"important message\", \"urgent action\", \"important reminder\", \"urgent notice\", \"important information\", \"important update\", \"must respond\", \"important announcement\", \"attention required\", \"important details\", \"action needed\", \"important instructions\", \"critical situation\", \"high priority\", \"important task\", \"important event\", \"emergency situation\", \"action required\", \"important news\", \"important development\", \"critical issue\", \"important communication\", \"important memo\", \"critical matter\"],\n",
        "          \"Promotions\":[\"sale\", \"deal\", \"discount\", \"offer\", \"promotion\", \"exclusive\", \"limited time\", \"special\", \"save\", \"clearance\", \"flash sale\", \"bargain\", \"discounted\", \"promo code\", \"savings\", \"special offer\", \"discount code\", \"hot deal\", \"unbeatable\", \"lowest price\", \"best price\", \"buy one get one\", \"free shipping\", \"super sale\", \"discounted price\", \"amazing deal\", \"huge savings\", \"extra savings\", \"lowest rates\", \"best deal\", \"discount offer\", \"deal of the day\", \"promo offer\", \"exclusive deal\", \"lowest cost\", \"lowest prices of the season\", \"special promotion\", \"one-time offer\", \"price drop\", \"lowest fees\", \"special savings\", \"discounted rates\", \"clearance sale\", \"lowest fares\", \"ultimate savings\", \"big savings\", \"price reduction\", \"mega sale\"],\n",
        "          \"Spam\":[\"lottery\", \"prize\", \"free\", \"click here\", \"unsubscribe\", \"viagra\", \"earn money\", \"guaranteed\", \"credit card\", \"online pharmacy\", \"weight loss\", \"work from home\", \"meet singles\", \"increase sales\", \"multi-level marketing\", \"investment\", \"cash\", \"free access\", \"income\", \"millions\", \"earn per week\", \"get paid\", \"marketing solution\", \"money\", \"no cost\", \"offer\", \"promise\", \"save big money\", \"save up to\", \"this isn't a scam\", \"thousands\", \"weekend getaway\", \"win\", \"winner\", \"winning\", \"work at home\", \"you are a winner\", \"you have been selected\", \"your income\", \"zero cost\", \"$$$\", \"100% satisfied\", \"50% off\", \"amazing\", \"apply now\", \"as seen on\", \"be your own boss\", \"big bucks\", \"billions\", \"cash bonus\", \"cashcashcash\"]}\n",
        "    classify={\"important\":[],\n",
        "              \"Promotions\":[],\n",
        "              \"Spam\":[]\n",
        "              }\n",
        "    for i in emails:\n",
        "        imp=0\n",
        "        pro=0\n",
        "        spm=0\n",
        "        x=i.split()\n",
        "        for z in range(50):\n",
        "            if dict['important'][i] in x:\n",
        "                imp+=1\n",
        "            if dict['Promotions'][i] in x:\n",
        "                pro+=1\n",
        "            if dict['Spam'][i] in x:\n",
        "                spm+=1\n",
        "        if imp>pro and imp>spm:\n",
        "            classify[\"important\"].append()\n",
        "        elif pro>spm:\n",
        "            classify[\"Promotions\"].append()\n",
        "        else:\n",
        "            classify[\"Spam\"].append()\n",
        "    return classify\n"
      ]
    },
    {
      "cell_type": "markdown",
      "metadata": {
        "id": "amtV-GLWpCC7"
      },
      "source": [
        "# Lab Task 06"
      ]
    },
    {
      "cell_type": "markdown",
      "metadata": {
        "id": "M2Zg-XsUpC72"
      },
      "source": [
        "## English-Spanish Dictionary\n",
        "You are creating a basic English-Spanish dictionary that allows users to look up English words and find their Spanish translations.\n",
        "\n",
        "\n",
        "### Tasks\n",
        "* Create a dictionary where English words are keys and their Spanish translations are values.\n",
        "* Ask the user to input an English word.\n",
        "* Check if the word exists in the dictionary.\n",
        "* If the word exists, print its Spanish translation.\n",
        "* If the word does not exist, inform the user that the translation is not available.\n",
        "* Implement a loop that allows the user to keep looking up words until they choose to exit.\n"
      ]
    },
    {
      "cell_type": "code",
      "execution_count": 39,
      "metadata": {
        "id": "7RKtYbMZpJdh"
      },
      "outputs": [
        {
          "name": "stdout",
          "output_type": "stream",
          "text": [
            "luna\n",
            "hola\n",
            "The word you put in does not exist in my dictionary\n",
            "The word you put in does not exist in my dictionary\n",
            "The word you put in does not exist in my dictionary\n",
            "The word you put in does not exist in my dictionary\n"
          ]
        }
      ],
      "source": [
        "#code here\n",
        "eSpdict={\n",
        "    \"hello\": \"hola\",\n",
        "    \"goodbye\": \"adiós\",\n",
        "    \"thank you\": \"gracias\",\n",
        "    \"please\": \"por favor\",\n",
        "    \"yes\": \"sí\",\n",
        "    \"no\": \"no\",\n",
        "    \"friend\": \"amigo/amiga\",\n",
        "    \"family\": \"familia\",\n",
        "    \"love\": \"amor\",\n",
        "    \"water\": \"agua\",\n",
        "    \"food\": \"comida\",\n",
        "    \"house\": \"casa\",\n",
        "    \"car\": \"coche/auto\",\n",
        "    \"book\": \"libro\",\n",
        "    \"computer\": \"computadora\",\n",
        "    \"school\": \"escuela\",\n",
        "    \"work\": \"trabajo\",\n",
        "    \"money\": \"dinero\",\n",
        "    \"time\": \"tiempo\",\n",
        "    \"day\": \"día\",\n",
        "    \"night\": \"noche\",\n",
        "    \"week\": \"semana\",\n",
        "    \"month\": \"mes\",\n",
        "    \"year\": \"año\",\n",
        "    \"color\": \"color\",\n",
        "    \"music\": \"música\",\n",
        "    \"sun\": \"sol\",\n",
        "    \"moon\": \"luna\"\n",
        "    }\n",
        "while True:\n",
        "    word=input(\"enter a word you want translated in spanish else enter q:\")\n",
        "    try:\n",
        "        print(eSpdict[word])\n",
        "    except KeyError:\n",
        "        if word=='q':\n",
        "            break\n",
        "        print(\"The word you put in does not exist in my dictionary\")"
      ]
    },
    {
      "cell_type": "markdown",
      "metadata": {
        "id": "h_8wOMWitspv"
      },
      "source": [
        "# Lab Task 07"
      ]
    },
    {
      "cell_type": "markdown",
      "metadata": {
        "id": "Qq4VH1Jkts32"
      },
      "source": [
        "dataset link : https://raw.githubusercontent.com/TirendazAcademy/PANDAS-TUTORIAL/main/DataSets/vgsalesGlobale.csv\n",
        "#Exercise\n",
        "Use the dataset of Game, we have explored earlier and perform following operations.\n",
        "\n",
        "* Calculate the total global sales for all games in the dataset.\n",
        "* Find the game with the highest global sales.\n",
        "* Determine the average sales for each region (NA_Sales, EU_Sales, JP_Sales, Other_Sales).\n",
        "* Find the top 5 most popular game genres based on global sales.\n",
        "* Calculate the total sales for each genre in each region and find the most popular genre in North America (NA_Sales).\n",
        "* Display last 10 rows.\n",
        "* Determine the top 3 gaming platforms with the highest global sales.\n",
        "* Calculate the market share (percentage of global sales) for each genre.\n",
        "* Calculate the correlation coefficient between NA_Sales and EU_Sales. (.corr function)"
      ]
    },
    {
      "cell_type": "code",
      "execution_count": 40,
      "metadata": {},
      "outputs": [],
      "source": [
        "import pandas as pd\n",
        "dataset=pd.read_csv(\"https://raw.githubusercontent.com/TirendazAcademy/PANDAS-TUTORIAL/main/DataSets/vgsalesGlobale.csv\")"
      ]
    },
    {
      "cell_type": "code",
      "execution_count": 44,
      "metadata": {},
      "outputs": [
        {
          "data": {
            "text/html": [
              "<div>\n",
              "<style scoped>\n",
              "    .dataframe tbody tr th:only-of-type {\n",
              "        vertical-align: middle;\n",
              "    }\n",
              "\n",
              "    .dataframe tbody tr th {\n",
              "        vertical-align: top;\n",
              "    }\n",
              "\n",
              "    .dataframe thead th {\n",
              "        text-align: right;\n",
              "    }\n",
              "</style>\n",
              "<table border=\"1\" class=\"dataframe\">\n",
              "  <thead>\n",
              "    <tr style=\"text-align: right;\">\n",
              "      <th></th>\n",
              "      <th>Rank</th>\n",
              "      <th>Name</th>\n",
              "      <th>Platform</th>\n",
              "      <th>Year</th>\n",
              "      <th>Genre</th>\n",
              "      <th>Publisher</th>\n",
              "      <th>NA_Sales</th>\n",
              "      <th>EU_Sales</th>\n",
              "      <th>JP_Sales</th>\n",
              "      <th>Other_Sales</th>\n",
              "      <th>Global_Sales</th>\n",
              "    </tr>\n",
              "  </thead>\n",
              "  <tbody>\n",
              "    <tr>\n",
              "      <th>0</th>\n",
              "      <td>1</td>\n",
              "      <td>Wii Sports</td>\n",
              "      <td>Wii</td>\n",
              "      <td>2006.0</td>\n",
              "      <td>Sports</td>\n",
              "      <td>Nintendo</td>\n",
              "      <td>41.49</td>\n",
              "      <td>29.02</td>\n",
              "      <td>3.77</td>\n",
              "      <td>8.46</td>\n",
              "      <td>82.74</td>\n",
              "    </tr>\n",
              "    <tr>\n",
              "      <th>1</th>\n",
              "      <td>2</td>\n",
              "      <td>Super Mario Bros.</td>\n",
              "      <td>NES</td>\n",
              "      <td>1985.0</td>\n",
              "      <td>Platform</td>\n",
              "      <td>Nintendo</td>\n",
              "      <td>29.08</td>\n",
              "      <td>3.58</td>\n",
              "      <td>6.81</td>\n",
              "      <td>0.77</td>\n",
              "      <td>40.24</td>\n",
              "    </tr>\n",
              "    <tr>\n",
              "      <th>2</th>\n",
              "      <td>3</td>\n",
              "      <td>Mario Kart Wii</td>\n",
              "      <td>Wii</td>\n",
              "      <td>2008.0</td>\n",
              "      <td>Racing</td>\n",
              "      <td>Nintendo</td>\n",
              "      <td>15.85</td>\n",
              "      <td>12.88</td>\n",
              "      <td>3.79</td>\n",
              "      <td>3.31</td>\n",
              "      <td>35.82</td>\n",
              "    </tr>\n",
              "    <tr>\n",
              "      <th>3</th>\n",
              "      <td>4</td>\n",
              "      <td>Wii Sports Resort</td>\n",
              "      <td>Wii</td>\n",
              "      <td>2009.0</td>\n",
              "      <td>Sports</td>\n",
              "      <td>Nintendo</td>\n",
              "      <td>15.75</td>\n",
              "      <td>11.01</td>\n",
              "      <td>3.28</td>\n",
              "      <td>2.96</td>\n",
              "      <td>33.00</td>\n",
              "    </tr>\n",
              "    <tr>\n",
              "      <th>4</th>\n",
              "      <td>5</td>\n",
              "      <td>Pokemon Red/Pokemon Blue</td>\n",
              "      <td>GB</td>\n",
              "      <td>1996.0</td>\n",
              "      <td>Role-Playing</td>\n",
              "      <td>Nintendo</td>\n",
              "      <td>11.27</td>\n",
              "      <td>8.89</td>\n",
              "      <td>10.22</td>\n",
              "      <td>1.00</td>\n",
              "      <td>31.37</td>\n",
              "    </tr>\n",
              "    <tr>\n",
              "      <th>...</th>\n",
              "      <td>...</td>\n",
              "      <td>...</td>\n",
              "      <td>...</td>\n",
              "      <td>...</td>\n",
              "      <td>...</td>\n",
              "      <td>...</td>\n",
              "      <td>...</td>\n",
              "      <td>...</td>\n",
              "      <td>...</td>\n",
              "      <td>...</td>\n",
              "      <td>...</td>\n",
              "    </tr>\n",
              "    <tr>\n",
              "      <th>16593</th>\n",
              "      <td>16596</td>\n",
              "      <td>Woody Woodpecker in Crazy Castle 5</td>\n",
              "      <td>GBA</td>\n",
              "      <td>2002.0</td>\n",
              "      <td>Platform</td>\n",
              "      <td>Kemco</td>\n",
              "      <td>0.01</td>\n",
              "      <td>0.00</td>\n",
              "      <td>0.00</td>\n",
              "      <td>0.00</td>\n",
              "      <td>0.01</td>\n",
              "    </tr>\n",
              "    <tr>\n",
              "      <th>16594</th>\n",
              "      <td>16597</td>\n",
              "      <td>Men in Black II: Alien Escape</td>\n",
              "      <td>GC</td>\n",
              "      <td>2003.0</td>\n",
              "      <td>Shooter</td>\n",
              "      <td>Infogrames</td>\n",
              "      <td>0.01</td>\n",
              "      <td>0.00</td>\n",
              "      <td>0.00</td>\n",
              "      <td>0.00</td>\n",
              "      <td>0.01</td>\n",
              "    </tr>\n",
              "    <tr>\n",
              "      <th>16595</th>\n",
              "      <td>16598</td>\n",
              "      <td>SCORE International Baja 1000: The Official Game</td>\n",
              "      <td>PS2</td>\n",
              "      <td>2008.0</td>\n",
              "      <td>Racing</td>\n",
              "      <td>Activision</td>\n",
              "      <td>0.00</td>\n",
              "      <td>0.00</td>\n",
              "      <td>0.00</td>\n",
              "      <td>0.00</td>\n",
              "      <td>0.01</td>\n",
              "    </tr>\n",
              "    <tr>\n",
              "      <th>16596</th>\n",
              "      <td>16599</td>\n",
              "      <td>Know How 2</td>\n",
              "      <td>DS</td>\n",
              "      <td>2010.0</td>\n",
              "      <td>Puzzle</td>\n",
              "      <td>7G//AMES</td>\n",
              "      <td>0.00</td>\n",
              "      <td>0.01</td>\n",
              "      <td>0.00</td>\n",
              "      <td>0.00</td>\n",
              "      <td>0.01</td>\n",
              "    </tr>\n",
              "    <tr>\n",
              "      <th>16597</th>\n",
              "      <td>16600</td>\n",
              "      <td>Spirits &amp; Spells</td>\n",
              "      <td>GBA</td>\n",
              "      <td>2003.0</td>\n",
              "      <td>Platform</td>\n",
              "      <td>Wanadoo</td>\n",
              "      <td>0.01</td>\n",
              "      <td>0.00</td>\n",
              "      <td>0.00</td>\n",
              "      <td>0.00</td>\n",
              "      <td>0.01</td>\n",
              "    </tr>\n",
              "  </tbody>\n",
              "</table>\n",
              "<p>16598 rows × 11 columns</p>\n",
              "</div>"
            ],
            "text/plain": [
              "        Rank                                              Name Platform  \\\n",
              "0          1                                        Wii Sports      Wii   \n",
              "1          2                                 Super Mario Bros.      NES   \n",
              "2          3                                    Mario Kart Wii      Wii   \n",
              "3          4                                 Wii Sports Resort      Wii   \n",
              "4          5                          Pokemon Red/Pokemon Blue       GB   \n",
              "...      ...                                               ...      ...   \n",
              "16593  16596                Woody Woodpecker in Crazy Castle 5      GBA   \n",
              "16594  16597                     Men in Black II: Alien Escape       GC   \n",
              "16595  16598  SCORE International Baja 1000: The Official Game      PS2   \n",
              "16596  16599                                        Know How 2       DS   \n",
              "16597  16600                                  Spirits & Spells      GBA   \n",
              "\n",
              "         Year         Genre   Publisher  NA_Sales  EU_Sales  JP_Sales  \\\n",
              "0      2006.0        Sports    Nintendo     41.49     29.02      3.77   \n",
              "1      1985.0      Platform    Nintendo     29.08      3.58      6.81   \n",
              "2      2008.0        Racing    Nintendo     15.85     12.88      3.79   \n",
              "3      2009.0        Sports    Nintendo     15.75     11.01      3.28   \n",
              "4      1996.0  Role-Playing    Nintendo     11.27      8.89     10.22   \n",
              "...       ...           ...         ...       ...       ...       ...   \n",
              "16593  2002.0      Platform       Kemco      0.01      0.00      0.00   \n",
              "16594  2003.0       Shooter  Infogrames      0.01      0.00      0.00   \n",
              "16595  2008.0        Racing  Activision      0.00      0.00      0.00   \n",
              "16596  2010.0        Puzzle    7G//AMES      0.00      0.01      0.00   \n",
              "16597  2003.0      Platform     Wanadoo      0.01      0.00      0.00   \n",
              "\n",
              "       Other_Sales  Global_Sales  \n",
              "0             8.46         82.74  \n",
              "1             0.77         40.24  \n",
              "2             3.31         35.82  \n",
              "3             2.96         33.00  \n",
              "4             1.00         31.37  \n",
              "...            ...           ...  \n",
              "16593         0.00          0.01  \n",
              "16594         0.00          0.01  \n",
              "16595         0.00          0.01  \n",
              "16596         0.00          0.01  \n",
              "16597         0.00          0.01  \n",
              "\n",
              "[16598 rows x 11 columns]"
            ]
          },
          "execution_count": 44,
          "metadata": {},
          "output_type": "execute_result"
        }
      ],
      "source": [
        "dataset"
      ]
    },
    {
      "cell_type": "code",
      "execution_count": null,
      "metadata": {},
      "outputs": [],
      "source": []
    },
    {
      "cell_type": "code",
      "execution_count": 124,
      "metadata": {},
      "outputs": [
        {
          "name": "stdout",
          "output_type": "stream",
          "text": [
            "Global sales sum :  8920.44\n",
            "item with max global sales :  Wii Sports\n",
            "\n",
            "Average sales wrt to regions : \n",
            "Average of NA_Sales : 0.26466742981082064\n",
            "Average of EU_Sales : 0.14665200626581515\n",
            "Average of JP_Sales : 0.077781660441017\n",
            "Average of Other_Sales : 0.0480630196409206\n",
            "Average of Global_Sales : 0.5374406555006628\n",
            "\n",
            "Top 5 Genre : \n",
            "Action\n",
            "Sports\n",
            "Shooter\n",
            "Role-Playing\n",
            "Platform\n",
            "genre game sales in each reagion : \n",
            "Sports :\n",
            "    sales in NA_Sales :683.35\n",
            "    sales in EU_Sales :376.85\n",
            "    sales in JP_Sales :135.37\n",
            "    sales in Other_Sales :134.97\n",
            "    sales in Global_Sales :1330.93\n",
            "Platform :\n",
            "    sales in NA_Sales :447.05\n",
            "    sales in EU_Sales :201.63000000000002\n",
            "    sales in JP_Sales :130.77\n",
            "    sales in Other_Sales :51.589999999999996\n",
            "    sales in Global_Sales :831.37\n",
            "Racing :\n",
            "    sales in NA_Sales :359.41999999999996\n",
            "    sales in EU_Sales :238.39000000000001\n",
            "    sales in JP_Sales :56.68999999999999\n",
            "    sales in Other_Sales :77.27000000000001\n",
            "    sales in Global_Sales :732.04\n",
            "Role-Playing :\n",
            "    sales in NA_Sales :327.28\n",
            "    sales in EU_Sales :188.05999999999997\n",
            "    sales in JP_Sales :352.31\n",
            "    sales in Other_Sales :59.61\n",
            "    sales in Global_Sales :927.37\n",
            "Puzzle :\n",
            "    sales in NA_Sales :123.78\n",
            "    sales in EU_Sales :50.779999999999994\n",
            "    sales in JP_Sales :57.309999999999995\n",
            "    sales in Other_Sales :12.55\n",
            "    sales in Global_Sales :244.95\n",
            "Misc :\n",
            "    sales in NA_Sales :410.24\n",
            "    sales in EU_Sales :215.98000000000002\n",
            "    sales in JP_Sales :107.76\n",
            "    sales in Other_Sales :75.32000000000001\n",
            "    sales in Global_Sales :809.9600000000002\n",
            "Shooter :\n",
            "    sales in NA_Sales :582.6\n",
            "    sales in EU_Sales :313.27000000000004\n",
            "    sales in JP_Sales :38.28\n",
            "    sales in Other_Sales :102.69\n",
            "    sales in Global_Sales :1037.3700000000001\n",
            "Simulation :\n",
            "    sales in NA_Sales :183.30999999999997\n",
            "    sales in EU_Sales :113.38000000000001\n",
            "    sales in JP_Sales :63.7\n",
            "    sales in Other_Sales :31.519999999999996\n",
            "    sales in Global_Sales :392.2000000000001\n",
            "Action :\n",
            "    sales in NA_Sales :877.83\n",
            "    sales in EU_Sales :525.0\n",
            "    sales in JP_Sales :159.95000000000002\n",
            "    sales in Other_Sales :187.38000000000002\n",
            "    sales in Global_Sales :1751.18\n",
            "Fighting :\n",
            "    sales in NA_Sales :223.58999999999997\n",
            "    sales in EU_Sales :101.32000000000001\n",
            "    sales in JP_Sales :87.35000000000001\n",
            "    sales in Other_Sales :36.68000000000001\n",
            "    sales in Global_Sales :448.91\n",
            "Adventure :\n",
            "    sales in NA_Sales :105.80000000000001\n",
            "    sales in EU_Sales :64.13\n",
            "    sales in JP_Sales :52.07\n",
            "    sales in Other_Sales :16.81\n",
            "    sales in Global_Sales :239.03999999999996\n",
            "Strategy :\n",
            "    sales in NA_Sales :68.69999999999999\n",
            "    sales in EU_Sales :45.339999999999996\n",
            "    sales in JP_Sales :49.46000000000001\n",
            "    sales in Other_Sales :11.359999999999998\n",
            "    sales in Global_Sales :175.12000000000003\n",
            "\n",
            " the genre most liked in america is  Action\n",
            "\n",
            " last ten elements of the dataframe : \n",
            "\n",
            "Top 3 Genre : \n",
            "PS2\n",
            "X360\n",
            "PS3\n",
            "Genre percentage : \n",
            "     Sports   : 14.920003945993695\n",
            "     Platform   : 9.319831757177896\n",
            "     Racing   : 8.206321661263345\n",
            "     Role-Playing   : 10.396011855917422\n",
            "     Puzzle   : 2.7459407831900666\n",
            "     Misc   : 9.07982117474026\n",
            "     Shooter   : 11.629134885723126\n",
            "     Simulation   : 4.396644111725431\n",
            "     Action   : 19.63109443031958\n",
            "     Fighting   : 5.0323750846370805\n",
            "     Adventure   : 2.6796884458614145\n",
            "     Strategy   : 1.963131863450682\n",
            "correlation coefficient :  0.7677267483702631\n"
          ]
        }
      ],
      "source": [
        "print(\"Global sales sum : \",dataset['Global_Sales'].sum())\n",
        "\n",
        "print(\"item with max global sales : \",dataset.loc[dataset['Global_Sales'].idxmax(),\"Name\"])\n",
        "\n",
        "print(\"\\nAverage sales wrt to regions : \")\n",
        "List=['NA_Sales',\"EU_Sales\",\"JP_Sales\",\"Other_Sales\",\"Global_Sales\"]\n",
        "for i in List:\n",
        "    print(\"Average of \"+i+\" : \"+str(dataset[i].mean()))\n",
        "List1=dataset[\"Genre\"].unique()\n",
        "\n",
        "print(\"\\nTop 5 Genre : \")\n",
        "dict={}\n",
        "for i in List1:\n",
        "   dict[(dataset.groupby('Genre').get_group(i)[\"Global_Sales\"].sum())]=i\n",
        "x=list(dict .keys())\n",
        "x=np.sort(x, kind='quicksort')[::-1]\n",
        "for i in range (5):\n",
        "    print(dict[x[i]])\n",
        "\n",
        "print(\"genre game sales in each reagion : \")\n",
        "totalInAmerica=0\n",
        "areaname=\"NA_Sales\"\n",
        "genreName=''\n",
        "\n",
        "for i in List1:\n",
        "\n",
        "    print(i,\":\")\n",
        "    for j in List:\n",
        "        print(\"    sales in \"+j+' :'+str(dataset.groupby('Genre').get_group(i)[j].sum()))\n",
        "        if j==areaname:\n",
        "            if totalInAmerica<dataset.groupby('Genre').get_group(i)[j].sum():\n",
        "                totalInAmerica=dataset.groupby('Genre').get_group(i)[j].sum()\n",
        "                genreName=i\n",
        "\n",
        "print (\"\\n the genre most liked in america is \",genreName)\n",
        "\n",
        "print('\\n last ten elements of the dataframe : ')\n",
        "dataset.tail(10)\n",
        "\n",
        "List1=dataset[\"Platform\"].unique()\n",
        "print(\"\\nTop 3 Genre : \")\n",
        "dict={}\n",
        "for i in List1:\n",
        "   dict[(dataset.groupby(\"Platform\").get_group(i)[\"Global_Sales\"].sum())]=i\n",
        "x=list(dict .keys())\n",
        "x=np.sort(x, kind='quicksort')[::-1]\n",
        "for i in range (3):\n",
        "    print(dict[x[i]])\n",
        "\n",
        "List1=dataset[\"Genre\"].unique()\n",
        "print (\"Genre percentage : \")\n",
        "for i in List1:\n",
        "    print(\"     \"+i+\"   : \"+str( dataset.groupby('Genre').get_group(i)[\"Global_Sales\"].sum()/dataset['Global_Sales'].sum()*100))\n",
        "\n",
        "\n",
        "print(\"correlation coefficient : \",dataset['NA_Sales'].corr(dataset['EU_Sales']))\n",
        "\n",
        "\n",
        "\n"
      ]
    },
    {
      "cell_type": "code",
      "execution_count": null,
      "metadata": {},
      "outputs": [],
      "source": []
    }
  ],
  "metadata": {
    "colab": {
      "provenance": []
    },
    "kernelspec": {
      "display_name": "Python 3",
      "name": "python3"
    },
    "language_info": {
      "codemirror_mode": {
        "name": "ipython",
        "version": 3
      },
      "file_extension": ".py",
      "mimetype": "text/x-python",
      "name": "python",
      "nbconvert_exporter": "python",
      "pygments_lexer": "ipython3",
      "version": "3.11.6"
    }
  },
  "nbformat": 4,
  "nbformat_minor": 0
}
